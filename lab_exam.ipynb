{
 "cells": [
  {
   "cell_type": "code",
   "execution_count": 1,
   "metadata": {},
   "outputs": [],
   "source": [
    "import os\n",
    "base_path=\"C:\\\\Users\\\\i345144\\\\OneDrive\\\\Documents\\\\MSRUS\\\\Probabilistic Graphical Models\\\\Lab Exam\\\\Lab Exam\"\n",
    "\n",
    "os.chdir(base_path)\n",
    "\n",
    "# Importing necessary library\n",
    "import pandas as pd\n",
    "import numpy as np\n",
    "import nltk\n",
    "import os\n",
    "import nltk.corpus\n",
    "# importing word_tokenize from nltk\n",
    "from nltk.tokenize import word_tokenize\n",
    "from nltk.probability import FreqDist\n",
    "from nltk import word_tokenize\n",
    "from nltk.corpus import stopwords\n",
    "from nltk import ne_chunk\n",
    "\n",
    "import nltk\n",
    "\n",
    "# uncomment and run when using first time\n",
    "#nltk.download('stopwords')\n",
    "#nltk.download('averaged_perceptron_tagger')\n",
    "#nltk.download('words')\n",
    "#nltk.download('maxent_ne_chunker')\n",
    "\n",
    "\n"
   ]
  },
  {
   "cell_type": "code",
   "execution_count": 2,
   "metadata": {},
   "outputs": [
    {
     "name": "stdout",
     "output_type": "stream",
     "text": [
      "A strike by farmers in Maharashtra continues to affect normal life, despite the State government’s announcement of an end to the strike last week. The farmers, whose demands include full waiver of farm loans, hikes in the minimum support price for agricultural produce and writing off of pending electricity bills, have been on an indefinite strike since June 1. As the strike nears the end of its first week, prices of essential goods such as milk, fruits and vegetables have risen steeply, causing distress to consumers. Some farmer groups agreed to call off their strike after Chief Minister Devendra Fadnavis promised that his government would waive farm loans of small and marginal farmers worth about ?30,000 crore, increase power subsidies, hike the price for milk procurement, and also set up a State commission to look into the matter of raising the MSP for crops. He also promised that buying agricultural produce below their MSP would soon be made a criminal offence. Other farmer groups, meanwhile, have stuck to their demand for a complete farm loan waiver and continued with their protest. It is notable that the protests have come soon after the Uttar Pradesh government waived farm loans earlier this year, setting off similar demands in other States. Yet, while Maharashtra’s farmers have caught the attention of the government, the focus on quick fixes has pushed aside the real structural issues behind the crisis.\n",
      "\n"
     ]
    }
   ],
   "source": [
    "my_file = os.path.join(base_path + \"/\" + \"MIS503 Lab Exam Data.txt\")\n",
    "\n",
    "f = open(my_file, \"r\")\n",
    "extracted_text= f.read()\n",
    "print(extracted_text)"
   ]
  },
  {
   "cell_type": "code",
   "execution_count": 3,
   "metadata": {},
   "outputs": [
    {
     "name": "stdout",
     "output_type": "stream",
     "text": [
      "A strike by farmers in Maharashtra continues to affect normal life, despite the State government’s announcement of an end to the strike last week. The farmers, whose demands include full waiver of farm loans, hikes in the minimum support price for agricultural produce and writing off of pending electricity bills, have been on an indefinite strike since June 1. As the strike nears the end of its first week, prices of essential goods such as milk, fruits and vegetables have risen steeply, causing distress to consumers. Some farmer groups agreed to call off their strike after Chief Minister Devendra Fadnavis promised that his government would waive farm loans of small and marginal farmers worth about ?30,000 crore, increase power subsidies, hike the price for milk procurement, and also set up a State commission to look into the matter of raising the MSP for crops. He also promised that buying agricultural produce below their MSP would soon be made a criminal offence. Other farmer groups, meanwhile, have stuck to their demand for a complete farm loan waiver and continued with their protest. It is notable that the protests have come soon after the Uttar Pradesh government waived farm loans earlier this year, setting off similar demands in other States. Yet, while Maharashtra’s farmers have caught the attention of the government, the focus on quick fixes has pushed aside the real structural issues behind the crisis.\n",
      "\n"
     ]
    }
   ],
   "source": [
    "story=extracted_text\n",
    "# we do this to maintain consistency in the code based on code in assignment \n",
    "print(story)"
   ]
  },
  {
   "cell_type": "code",
   "execution_count": 4,
   "metadata": {
    "scrolled": true
   },
   "outputs": [
    {
     "name": "stdout",
     "output_type": "stream",
     "text": [
      "['A', 'strike', 'by', 'farmers', 'in', 'Maharashtra', 'continues', 'to', 'affect', 'normal', 'life', ',', 'despite', 'the', 'State', 'government', '’', 's', 'announcement', 'of', 'an', 'end', 'to', 'the', 'strike', 'last', 'week', '.', 'The', 'farmers', ',', 'whose', 'demands', 'include', 'full', 'waiver', 'of', 'farm', 'loans', ',', 'hikes', 'in', 'the', 'minimum', 'support', 'price', 'for', 'agricultural', 'produce', 'and', 'writing', 'off', 'of', 'pending', 'electricity', 'bills', ',', 'have', 'been', 'on', 'an', 'indefinite', 'strike', 'since', 'June', '1', '.', 'As', 'the', 'strike', 'nears', 'the', 'end', 'of', 'its', 'first', 'week', ',', 'prices', 'of', 'essential', 'goods', 'such', 'as', 'milk', ',', 'fruits', 'and', 'vegetables', 'have', 'risen', 'steeply', ',', 'causing', 'distress', 'to', 'consumers', '.', 'Some', 'farmer', 'groups', 'agreed', 'to', 'call', 'off', 'their', 'strike', 'after', 'Chief', 'Minister', 'Devendra', 'Fadnavis', 'promised', 'that', 'his', 'government', 'would', 'waive', 'farm', 'loans', 'of', 'small', 'and', 'marginal', 'farmers', 'worth', 'about', '?', '30,000', 'crore', ',', 'increase', 'power', 'subsidies', ',', 'hike', 'the', 'price', 'for', 'milk', 'procurement', ',', 'and', 'also', 'set', 'up', 'a', 'State', 'commission', 'to', 'look', 'into', 'the', 'matter', 'of', 'raising', 'the', 'MSP', 'for', 'crops', '.', 'He', 'also', 'promised', 'that', 'buying', 'agricultural', 'produce', 'below', 'their', 'MSP', 'would', 'soon', 'be', 'made', 'a', 'criminal', 'offence', '.', 'Other', 'farmer', 'groups', ',', 'meanwhile', ',', 'have', 'stuck', 'to', 'their', 'demand', 'for', 'a', 'complete', 'farm', 'loan', 'waiver', 'and', 'continued', 'with', 'their', 'protest', '.', 'It', 'is', 'notable', 'that', 'the', 'protests', 'have', 'come', 'soon', 'after', 'the', 'Uttar', 'Pradesh', 'government', 'waived', 'farm', 'loans', 'earlier', 'this', 'year', ',', 'setting', 'off', 'similar', 'demands', 'in', 'other', 'States', '.', 'Yet', ',', 'while', 'Maharashtra', '’', 's', 'farmers', 'have', 'caught', 'the', 'attention', 'of', 'the', 'government', ',', 'the', 'focus', 'on', 'quick', 'fixes', 'has', 'pushed', 'aside', 'the', 'real', 'structural', 'issues', 'behind', 'the', 'crisis', '.']\n"
     ]
    }
   ],
   "source": [
    "# Passing the string text into word tokenize for breaking the sentences\n",
    "word_tokens = word_tokenize(story)\n",
    "print(word_tokens)"
   ]
  },
  {
   "cell_type": "code",
   "execution_count": 5,
   "metadata": {},
   "outputs": [
    {
     "data": {
      "text/plain": [
       "FreqDist({',': 15, 'the': 15, 'of': 8, '.': 8, 'to': 6, 'strike': 5, 'and': 5, 'have': 5, 'farmers': 4, 'government': 4, ...})"
      ]
     },
     "execution_count": 5,
     "metadata": {},
     "output_type": "execute_result"
    }
   ],
   "source": [
    "# finding the frequency distinct in the tokens\n",
    "# Importing FreqDist library from nltk and passing token into FreqDist\n",
    "fdist = FreqDist(word_tokens)\n",
    "fdist"
   ]
  },
  {
   "cell_type": "code",
   "execution_count": 6,
   "metadata": {},
   "outputs": [
    {
     "data": {
      "text/plain": [
       "[(',', 15),\n",
       " ('the', 15),\n",
       " ('of', 8),\n",
       " ('.', 8),\n",
       " ('to', 6),\n",
       " ('strike', 5),\n",
       " ('and', 5),\n",
       " ('have', 5),\n",
       " ('farmers', 4),\n",
       " ('government', 4)]"
      ]
     },
     "execution_count": 6,
     "metadata": {},
     "output_type": "execute_result"
    }
   ],
   "source": [
    "# To find the frequency of top 10 words\n",
    "fdist1 = fdist.most_common(10)\n",
    "fdist1"
   ]
  },
  {
   "cell_type": "code",
   "execution_count": 8,
   "metadata": {},
   "outputs": [
    {
     "name": "stdout",
     "output_type": "stream",
     "text": [
      "Word tokens are: ['A', 'strike', 'by', 'farmers', 'in', 'Maharashtra', 'continues', 'to', 'affect', 'normal', 'life', ',', 'despite', 'the', 'State', 'government', '’', 's', 'announcement', 'of', 'an', 'end', 'to', 'the', 'strike', 'last', 'week', '.', 'The', 'farmers', ',', 'whose', 'demands', 'include', 'full', 'waiver', 'of', 'farm', 'loans', ',', 'hikes', 'in', 'the', 'minimum', 'support', 'price', 'for', 'agricultural', 'produce', 'and', 'writing', 'off', 'of', 'pending', 'electricity', 'bills', ',', 'have', 'been', 'on', 'an', 'indefinite', 'strike', 'since', 'June', '1', '.', 'As', 'the', 'strike', 'nears', 'the', 'end', 'of', 'its', 'first', 'week', ',', 'prices', 'of', 'essential', 'goods', 'such', 'as', 'milk', ',', 'fruits', 'and', 'vegetables', 'have', 'risen', 'steeply', ',', 'causing', 'distress', 'to', 'consumers', '.', 'Some', 'farmer', 'groups', 'agreed', 'to', 'call', 'off', 'their', 'strike', 'after', 'Chief', 'Minister', 'Devendra', 'Fadnavis', 'promised', 'that', 'his', 'government', 'would', 'waive', 'farm', 'loans', 'of', 'small', 'and', 'marginal', 'farmers', 'worth', 'about', '?', '30,000', 'crore', ',', 'increase', 'power', 'subsidies', ',', 'hike', 'the', 'price', 'for', 'milk', 'procurement', ',', 'and', 'also', 'set', 'up', 'a', 'State', 'commission', 'to', 'look', 'into', 'the', 'matter', 'of', 'raising', 'the', 'MSP', 'for', 'crops', '.', 'He', 'also', 'promised', 'that', 'buying', 'agricultural', 'produce', 'below', 'their', 'MSP', 'would', 'soon', 'be', 'made', 'a', 'criminal', 'offence', '.', 'Other', 'farmer', 'groups', ',', 'meanwhile', ',', 'have', 'stuck', 'to', 'their', 'demand', 'for', 'a', 'complete', 'farm', 'loan', 'waiver', 'and', 'continued', 'with', 'their', 'protest', '.', 'It', 'is', 'notable', 'that', 'the', 'protests', 'have', 'come', 'soon', 'after', 'the', 'Uttar', 'Pradesh', 'government', 'waived', 'farm', 'loans', 'earlier', 'this', 'year', ',', 'setting', 'off', 'similar', 'demands', 'in', 'other', 'States', '.', 'Yet', ',', 'while', 'Maharashtra', '’', 's', 'farmers', 'have', 'caught', 'the', 'attention', 'of', 'the', 'government', ',', 'the', 'focus', 'on', 'quick', 'fixes', 'has', 'pushed', 'aside', 'the', 'real', 'structural', 'issues', 'behind', 'the', 'crisis', '.']\n",
      "#########################################################################\n",
      "words after stoppedwords are:  ['A', 'strike', 'farmers', 'Maharashtra', 'continues', 'affect', 'normal', 'life', ',', 'despite', 'State', 'government', '’', 'announcement', 'end', 'strike', 'last', 'week', '.', 'The', 'farmers', ',', 'whose', 'demands', 'include', 'full', 'waiver', 'farm', 'loans', ',', 'hikes', 'minimum', 'support', 'price', 'agricultural', 'produce', 'writing', 'pending', 'electricity', 'bills', ',', 'indefinite', 'strike', 'since', 'June', '1', '.', 'As', 'strike', 'nears', 'end', 'first', 'week', ',', 'prices', 'essential', 'goods', 'milk', ',', 'fruits', 'vegetables', 'risen', 'steeply', ',', 'causing', 'distress', 'consumers', '.', 'Some', 'farmer', 'groups', 'agreed', 'call', 'strike', 'Chief', 'Minister', 'Devendra', 'Fadnavis', 'promised', 'government', 'would', 'waive', 'farm', 'loans', 'small', 'marginal', 'farmers', 'worth', '?', '30,000', 'crore', ',', 'increase', 'power', 'subsidies', ',', 'hike', 'price', 'milk', 'procurement', ',', 'also', 'set', 'State', 'commission', 'look', 'matter', 'raising', 'MSP', 'crops', '.', 'He', 'also', 'promised', 'buying', 'agricultural', 'produce', 'MSP', 'would', 'soon', 'made', 'criminal', 'offence', '.', 'Other', 'farmer', 'groups', ',', 'meanwhile', ',', 'stuck', 'demand', 'complete', 'farm', 'loan', 'waiver', 'continued', 'protest', '.', 'It', 'notable', 'protests', 'come', 'soon', 'Uttar', 'Pradesh', 'government', 'waived', 'farm', 'loans', 'earlier', 'year', ',', 'setting', 'similar', 'demands', 'States', '.', 'Yet', ',', 'Maharashtra', '’', 'farmers', 'caught', 'attention', 'government', ',', 'focus', 'quick', 'fixes', 'pushed', 'aside', 'real', 'structural', 'issues', 'behind', 'crisis', '.']\n"
     ]
    }
   ],
   "source": [
    "from nltk.corpus import stopwords \n",
    "from nltk.tokenize import word_tokenize \n",
    "stop_words = set(stopwords.words('english'))\n",
    "\n",
    "filtered_sentence = [w for w in word_tokens if not w in stop_words] \n",
    "  \n",
    "filtered_sentence = [] \n",
    "  \n",
    "for w in word_tokens: \n",
    "    if w not in stop_words: \n",
    "        filtered_sentence.append(w) \n",
    "  \n",
    "print(\"Word tokens are:\",word_tokens) \n",
    "print(\"#########################################################################\")\n",
    "print(\"words after stoppedwords are: \",filtered_sentence) \n"
   ]
  },
  {
   "cell_type": "code",
   "execution_count": 9,
   "metadata": {},
   "outputs": [
    {
     "name": "stdout",
     "output_type": "stream",
     "text": [
      "[('A', 'DT')]\n",
      "[('strike', 'NN')]\n",
      "[('by', 'IN')]\n",
      "[('farmers', 'NNS')]\n",
      "[('in', 'IN')]\n",
      "[('Maharashtra', 'NNP')]\n",
      "[('continues', 'VBZ')]\n",
      "[('to', 'TO')]\n",
      "[('affect', 'NN')]\n",
      "[('normal', 'JJ')]\n",
      "[('life', 'NN')]\n",
      "[(',', ',')]\n",
      "[('despite', 'IN')]\n",
      "[('the', 'DT')]\n",
      "[('State', 'NN')]\n",
      "[('government', 'NN')]\n",
      "[('’', 'NN')]\n",
      "[('s', 'NN')]\n",
      "[('announcement', 'NN')]\n",
      "[('of', 'IN')]\n",
      "[('an', 'DT')]\n",
      "[('end', 'NN')]\n",
      "[('to', 'TO')]\n",
      "[('the', 'DT')]\n",
      "[('strike', 'NN')]\n",
      "[('last', 'JJ')]\n",
      "[('week', 'NN')]\n",
      "[('.', '.')]\n",
      "[('The', 'DT')]\n",
      "[('farmers', 'NNS')]\n",
      "[(',', ',')]\n",
      "[('whose', 'WP$')]\n",
      "[('demands', 'NNS')]\n",
      "[('include', 'NN')]\n",
      "[('full', 'JJ')]\n",
      "[('waiver', 'NN')]\n",
      "[('of', 'IN')]\n",
      "[('farm', 'NN')]\n",
      "[('loans', 'NNS')]\n",
      "[(',', ',')]\n",
      "[('hikes', 'NNS')]\n",
      "[('in', 'IN')]\n",
      "[('the', 'DT')]\n",
      "[('minimum', 'NN')]\n",
      "[('support', 'NN')]\n",
      "[('price', 'NN')]\n",
      "[('for', 'IN')]\n",
      "[('agricultural', 'JJ')]\n",
      "[('produce', 'NN')]\n",
      "[('and', 'CC')]\n",
      "[('writing', 'VBG')]\n",
      "[('off', 'IN')]\n",
      "[('of', 'IN')]\n",
      "[('pending', 'VBG')]\n",
      "[('electricity', 'NN')]\n",
      "[('bills', 'NNS')]\n",
      "[(',', ',')]\n",
      "[('have', 'VB')]\n",
      "[('been', 'VBN')]\n",
      "[('on', 'IN')]\n",
      "[('an', 'DT')]\n",
      "[('indefinite', 'NN')]\n",
      "[('strike', 'NN')]\n",
      "[('since', 'IN')]\n",
      "[('June', 'NNP')]\n",
      "[('1', 'CD')]\n",
      "[('.', '.')]\n",
      "[('As', 'IN')]\n",
      "[('the', 'DT')]\n",
      "[('strike', 'NN')]\n",
      "[('nears', 'NNS')]\n",
      "[('the', 'DT')]\n",
      "[('end', 'NN')]\n",
      "[('of', 'IN')]\n",
      "[('its', 'PRP$')]\n",
      "[('first', 'RB')]\n",
      "[('week', 'NN')]\n",
      "[(',', ',')]\n",
      "[('prices', 'NNS')]\n",
      "[('of', 'IN')]\n",
      "[('essential', 'JJ')]\n",
      "[('goods', 'NNS')]\n",
      "[('such', 'JJ')]\n",
      "[('as', 'IN')]\n",
      "[('milk', 'NN')]\n",
      "[(',', ',')]\n",
      "[('fruits', 'NNS')]\n",
      "[('and', 'CC')]\n",
      "[('vegetables', 'NNS')]\n",
      "[('have', 'VB')]\n",
      "[('risen', 'NN')]\n",
      "[('steeply', 'NN')]\n",
      "[(',', ',')]\n",
      "[('causing', 'VBG')]\n",
      "[('distress', 'NN')]\n",
      "[('to', 'TO')]\n",
      "[('consumers', 'NNS')]\n",
      "[('.', '.')]\n",
      "[('Some', 'DT')]\n",
      "[('farmer', 'NN')]\n",
      "[('groups', 'NNS')]\n",
      "[('agreed', 'VBD')]\n",
      "[('to', 'TO')]\n",
      "[('call', 'NN')]\n",
      "[('off', 'IN')]\n",
      "[('their', 'PRP$')]\n",
      "[('strike', 'NN')]\n",
      "[('after', 'IN')]\n",
      "[('Chief', 'NN')]\n",
      "[('Minister', 'NNP')]\n",
      "[('Devendra', 'NN')]\n",
      "[('Fadnavis', 'NN')]\n",
      "[('promised', 'VBN')]\n",
      "[('that', 'IN')]\n",
      "[('his', 'PRP$')]\n",
      "[('government', 'NN')]\n",
      "[('would', 'MD')]\n",
      "[('waive', 'NN')]\n",
      "[('farm', 'NN')]\n",
      "[('loans', 'NNS')]\n",
      "[('of', 'IN')]\n",
      "[('small', 'JJ')]\n",
      "[('and', 'CC')]\n",
      "[('marginal', 'JJ')]\n",
      "[('farmers', 'NNS')]\n",
      "[('worth', 'NN')]\n",
      "[('about', 'IN')]\n",
      "[('?', '.')]\n",
      "[('30,000', 'CD')]\n",
      "[('crore', 'NN')]\n",
      "[(',', ',')]\n",
      "[('increase', 'NN')]\n",
      "[('power', 'NN')]\n",
      "[('subsidies', 'NNS')]\n",
      "[(',', ',')]\n",
      "[('hike', 'NN')]\n",
      "[('the', 'DT')]\n",
      "[('price', 'NN')]\n",
      "[('for', 'IN')]\n",
      "[('milk', 'NN')]\n",
      "[('procurement', 'NN')]\n",
      "[(',', ',')]\n",
      "[('and', 'CC')]\n",
      "[('also', 'RB')]\n",
      "[('set', 'NN')]\n",
      "[('up', 'RB')]\n",
      "[('a', 'DT')]\n",
      "[('State', 'NN')]\n",
      "[('commission', 'NN')]\n",
      "[('to', 'TO')]\n",
      "[('look', 'NN')]\n",
      "[('into', 'IN')]\n",
      "[('the', 'DT')]\n",
      "[('matter', 'NN')]\n",
      "[('of', 'IN')]\n",
      "[('raising', 'VBG')]\n",
      "[('the', 'DT')]\n",
      "[('MSP', 'NN')]\n",
      "[('for', 'IN')]\n",
      "[('crops', 'NNS')]\n",
      "[('.', '.')]\n",
      "[('He', 'PRP')]\n",
      "[('also', 'RB')]\n",
      "[('promised', 'VBN')]\n",
      "[('that', 'IN')]\n",
      "[('buying', 'NN')]\n",
      "[('agricultural', 'JJ')]\n",
      "[('produce', 'NN')]\n",
      "[('below', 'IN')]\n",
      "[('their', 'PRP$')]\n",
      "[('MSP', 'NN')]\n",
      "[('would', 'MD')]\n",
      "[('soon', 'RB')]\n",
      "[('be', 'VB')]\n",
      "[('made', 'VBN')]\n",
      "[('a', 'DT')]\n",
      "[('criminal', 'JJ')]\n",
      "[('offence', 'NN')]\n",
      "[('.', '.')]\n",
      "[('Other', 'JJ')]\n",
      "[('farmer', 'NN')]\n",
      "[('groups', 'NNS')]\n",
      "[(',', ',')]\n",
      "[('meanwhile', 'RB')]\n",
      "[(',', ',')]\n",
      "[('have', 'VB')]\n",
      "[('stuck', 'NN')]\n",
      "[('to', 'TO')]\n",
      "[('their', 'PRP$')]\n",
      "[('demand', 'NN')]\n",
      "[('for', 'IN')]\n",
      "[('a', 'DT')]\n",
      "[('complete', 'JJ')]\n",
      "[('farm', 'NN')]\n",
      "[('loan', 'NN')]\n",
      "[('waiver', 'NN')]\n",
      "[('and', 'CC')]\n",
      "[('continued', 'JJ')]\n",
      "[('with', 'IN')]\n",
      "[('their', 'PRP$')]\n",
      "[('protest', 'NN')]\n",
      "[('.', '.')]\n",
      "[('It', 'PRP')]\n",
      "[('is', 'VBZ')]\n",
      "[('notable', 'JJ')]\n",
      "[('that', 'IN')]\n",
      "[('the', 'DT')]\n",
      "[('protests', 'NNS')]\n",
      "[('have', 'VB')]\n",
      "[('come', 'VB')]\n",
      "[('soon', 'RB')]\n",
      "[('after', 'IN')]\n",
      "[('the', 'DT')]\n",
      "[('Uttar', 'NN')]\n",
      "[('Pradesh', 'NN')]\n",
      "[('government', 'NN')]\n",
      "[('waived', 'VBN')]\n",
      "[('farm', 'NN')]\n",
      "[('loans', 'NNS')]\n",
      "[('earlier', 'RBR')]\n",
      "[('this', 'DT')]\n",
      "[('year', 'NN')]\n",
      "[(',', ',')]\n",
      "[('setting', 'VBG')]\n",
      "[('off', 'IN')]\n",
      "[('similar', 'JJ')]\n",
      "[('demands', 'NNS')]\n",
      "[('in', 'IN')]\n",
      "[('other', 'JJ')]\n",
      "[('States', 'NNS')]\n",
      "[('.', '.')]\n",
      "[('Yet', 'RB')]\n",
      "[(',', ',')]\n",
      "[('while', 'IN')]\n",
      "[('Maharashtra', 'NNP')]\n",
      "[('’', 'NN')]\n",
      "[('s', 'NN')]\n",
      "[('farmers', 'NNS')]\n",
      "[('have', 'VB')]\n",
      "[('caught', 'NN')]\n",
      "[('the', 'DT')]\n",
      "[('attention', 'NN')]\n",
      "[('of', 'IN')]\n",
      "[('the', 'DT')]\n",
      "[('government', 'NN')]\n",
      "[(',', ',')]\n",
      "[('the', 'DT')]\n",
      "[('focus', 'NN')]\n",
      "[('on', 'IN')]\n",
      "[('quick', 'NN')]\n",
      "[('fixes', 'NNS')]\n",
      "[('has', 'VBZ')]\n",
      "[('pushed', 'VBN')]\n",
      "[('aside', 'RB')]\n",
      "[('the', 'DT')]\n",
      "[('real', 'JJ')]\n",
      "[('structural', 'JJ')]\n",
      "[('issues', 'NNS')]\n",
      "[('behind', 'IN')]\n",
      "[('the', 'DT')]\n",
      "[('crisis', 'NN')]\n",
      "[('.', '.')]\n"
     ]
    }
   ],
   "source": [
    "#POS Tagging\n",
    "for tex in word_tokens:\n",
    "    pos_tag=nltk.pos_tag([tex])\n",
    "    print(pos_tag)"
   ]
  },
  {
   "cell_type": "code",
   "execution_count": 5,
   "metadata": {},
   "outputs": [],
   "source": [
    "## part C begins here"
   ]
  },
  {
   "cell_type": "code",
   "execution_count": 14,
   "metadata": {},
   "outputs": [
    {
     "name": "stdout",
     "output_type": "stream",
     "text": [
      "2.2.1\n",
      "The ... det\n",
      "22-year ... npadvmod\n",
      "- ... punct\n",
      "old ... nsubj\n",
      "recently ... advmod\n",
      "won ... ROOT\n",
      "ATP ... compound\n",
      "Challenger ... compound\n",
      "tournament ... dobj\n",
      ". ... punct\n"
     ]
    }
   ],
   "source": [
    "#conda install -c conda-forge spacy=2.2.1\n",
    "# conda install -c conda-forge spacy-model-en_core_web_sm\n",
    "#https://www.analyticsvidhya.com/blog/2019/10/how-to-build-knowledge-graph-text-using-spacy/\n",
    "import spacy\n",
    "print(spacy.__version__)\n",
    "\n",
    "### extracting dependency parsing because POS tagging is not sufficient many times\n",
    "nlp = spacy.load('en_core_web_sm')\n",
    "\n",
    "#Example\n",
    "doc = nlp(\"The 22-year-old recently won ATP Challenger tournament.\")\n",
    "\n",
    "for tok in doc:\n",
    "  print(tok.text, \"...\", tok.dep_)"
   ]
  },
  {
   "cell_type": "code",
   "execution_count": 15,
   "metadata": {},
   "outputs": [],
   "source": [
    "import re\n",
    "import pandas as pd\n",
    "import bs4\n",
    "import requests\n",
    "import spacy\n",
    "from spacy import displacy\n",
    "nlp = spacy.load('en_core_web_sm')\n",
    "\n",
    "from spacy.matcher import Matcher \n",
    "from spacy.tokens import Span \n",
    "\n",
    "import networkx as nx\n",
    "\n",
    "import matplotlib.pyplot as plt\n",
    "from tqdm import tqdm\n",
    "\n",
    "pd.set_option('display.max_colwidth', 200)\n",
    "%matplotlib inline\n"
   ]
  },
  {
   "cell_type": "code",
   "execution_count": 16,
   "metadata": {},
   "outputs": [
    {
     "name": "stdout",
     "output_type": "stream",
     "text": [
      "A ... det\n",
      "strike ... nsubj\n",
      "by ... prep\n",
      "farmers ... pobj\n",
      "in ... prep\n",
      "Maharashtra ... pobj\n",
      "continues ... ROOT\n",
      "to ... aux\n",
      "affect ... xcomp\n",
      "normal ... amod\n",
      "life ... dobj\n",
      ", ... punct\n",
      "despite ... prep\n",
      "the ... det\n",
      "State ... compound\n",
      "government ... compound\n",
      "’s ... compound\n",
      "announcement ... pobj\n",
      "of ... prep\n",
      "an ... det\n",
      "end ... pobj\n",
      "to ... prep\n",
      "the ... det\n",
      "strike ... pobj\n",
      "last ... amod\n",
      "week ... npadvmod\n",
      ". ... punct\n",
      "The ... det\n",
      "farmers ... nsubj\n",
      ", ... punct\n",
      "whose ... poss\n",
      "demands ... nsubj\n",
      "include ... relcl\n",
      "full ... amod\n",
      "waiver ... dobj\n",
      "of ... prep\n",
      "farm ... compound\n",
      "loans ... pobj\n",
      ", ... punct\n",
      "hikes ... conj\n",
      "in ... prep\n",
      "the ... det\n",
      "minimum ... amod\n",
      "support ... compound\n",
      "price ... pobj\n",
      "for ... prep\n",
      "agricultural ... amod\n",
      "produce ... pobj\n",
      "and ... cc\n",
      "writing ... conj\n",
      "off ... prt\n",
      "of ... prep\n",
      "pending ... amod\n",
      "electricity ... compound\n",
      "bills ... pobj\n",
      ", ... punct\n",
      "have ... aux\n",
      "been ... ROOT\n",
      "on ... prep\n",
      "an ... det\n",
      "indefinite ... amod\n",
      "strike ... pobj\n",
      "since ... prep\n",
      "June ... pobj\n",
      "1 ... nummod\n",
      ". ... punct\n",
      "As ... mark\n",
      "the ... det\n",
      "strike ... nsubj\n",
      "nears ... advcl\n",
      "the ... det\n",
      "end ... dobj\n",
      "of ... prep\n",
      "its ... poss\n",
      "first ... amod\n",
      "week ... pobj\n",
      ", ... punct\n",
      "prices ... nsubj\n",
      "of ... prep\n",
      "essential ... amod\n",
      "goods ... pobj\n",
      "such ... amod\n",
      "as ... prep\n",
      "milk ... pobj\n",
      ", ... punct\n",
      "fruits ... conj\n",
      "and ... cc\n",
      "vegetables ... conj\n",
      "have ... aux\n",
      "risen ... ROOT\n",
      "steeply ... advmod\n",
      ", ... punct\n",
      "causing ... advcl\n",
      "distress ... dobj\n",
      "to ... dative\n",
      "consumers ... pobj\n",
      ". ... punct\n",
      "Some ... det\n",
      "farmer ... compound\n",
      "groups ... nsubj\n",
      "agreed ... ROOT\n",
      "to ... aux\n",
      "call ... xcomp\n",
      "off ... prt\n",
      "their ... poss\n",
      "strike ... dobj\n",
      "after ... mark\n",
      "Chief ... compound\n",
      "Minister ... compound\n",
      "Devendra ... compound\n",
      "Fadnavis ... nsubj\n",
      "promised ... advcl\n",
      "that ... mark\n",
      "his ... poss\n",
      "government ... nsubj\n",
      "would ... aux\n",
      "waive ... ccomp\n",
      "farm ... compound\n",
      "loans ... dobj\n",
      "of ... prep\n",
      "small ... amod\n",
      "and ... cc\n",
      "marginal ... conj\n",
      "farmers ... pobj\n",
      "worth ... amod\n",
      "about ... prep\n",
      "? ... punct\n",
      "30,000 ... nummod\n",
      "crore ... nsubj\n",
      ", ... punct\n",
      "increase ... ROOT\n",
      "power ... compound\n",
      "subsidies ... dobj\n",
      ", ... punct\n",
      "hike ... conj\n",
      "the ... det\n",
      "price ... dobj\n",
      "for ... prep\n",
      "milk ... compound\n",
      "procurement ... pobj\n",
      ", ... punct\n",
      "and ... cc\n",
      "also ... advmod\n",
      "set ... conj\n",
      "up ... prt\n",
      "a ... det\n",
      "State ... compound\n",
      "commission ... dobj\n",
      "to ... aux\n",
      "look ... advcl\n",
      "into ... prep\n",
      "the ... det\n",
      "matter ... pobj\n",
      "of ... prep\n",
      "raising ... pcomp\n",
      "the ... det\n",
      "MSP ... dobj\n",
      "for ... prep\n",
      "crops ... pobj\n",
      ". ... punct\n",
      "He ... nsubj\n",
      "also ... advmod\n",
      "promised ... ROOT\n",
      "that ... mark\n",
      "buying ... csubjpass\n",
      "agricultural ... amod\n",
      "produce ... dobj\n",
      "below ... prep\n",
      "their ... poss\n",
      "MSP ... pobj\n",
      "would ... aux\n",
      "soon ... advmod\n",
      "be ... auxpass\n",
      "made ... ccomp\n",
      "a ... det\n",
      "criminal ... amod\n",
      "offence ... oprd\n",
      ". ... punct\n",
      "Other ... amod\n",
      "farmer ... compound\n",
      "groups ... nsubj\n",
      ", ... punct\n",
      "meanwhile ... advmod\n",
      ", ... punct\n",
      "have ... aux\n",
      "stuck ... ROOT\n",
      "to ... prep\n",
      "their ... poss\n",
      "demand ... pobj\n",
      "for ... prep\n",
      "a ... det\n",
      "complete ... amod\n",
      "farm ... compound\n",
      "loan ... compound\n",
      "waiver ... pobj\n",
      "and ... cc\n",
      "continued ... conj\n",
      "with ... prep\n",
      "their ... poss\n",
      "protest ... pobj\n",
      ". ... punct\n",
      "It ... nsubj\n",
      "is ... ROOT\n",
      "notable ... acomp\n",
      "that ... mark\n",
      "the ... det\n",
      "protests ... nsubj\n",
      "have ... aux\n",
      "come ... ccomp\n",
      "soon ... advmod\n",
      "after ... mark\n",
      "the ... det\n",
      "Uttar ... compound\n",
      "Pradesh ... compound\n",
      "government ... nsubj\n",
      "waived ... advcl\n",
      "farm ... compound\n",
      "loans ... dobj\n",
      "earlier ... advmod\n",
      "this ... det\n",
      "year ... npadvmod\n",
      ", ... punct\n",
      "setting ... advcl\n",
      "off ... prt\n",
      "similar ... amod\n",
      "demands ... dobj\n",
      "in ... prep\n",
      "other ... amod\n",
      "States ... pobj\n",
      ". ... punct\n",
      "Yet ... advmod\n",
      ", ... punct\n",
      "while ... mark\n",
      "Maharashtra ... compound\n",
      "’s ... compound\n",
      "farmers ... nsubj\n",
      "have ... aux\n",
      "caught ... advcl\n",
      "the ... det\n",
      "attention ... dobj\n",
      "of ... prep\n",
      "the ... det\n",
      "government ... pobj\n",
      ", ... punct\n",
      "the ... det\n",
      "focus ... nsubj\n",
      "on ... prep\n",
      "quick ... amod\n",
      "fixes ... pobj\n",
      "has ... aux\n",
      "pushed ... ROOT\n",
      "aside ... advmod\n",
      "the ... det\n",
      "real ... amod\n",
      "structural ... amod\n",
      "issues ... dobj\n",
      "behind ... prep\n",
      "the ... det\n",
      "crisis ... pobj\n",
      ". ... punct\n",
      "\n",
      " ... \n"
     ]
    }
   ],
   "source": [
    "doc=nlp(story)\n",
    "\n",
    "for tok in doc:\n",
    "  print(tok.text, \"...\", tok.dep_)"
   ]
  },
  {
   "cell_type": "code",
   "execution_count": 17,
   "metadata": {},
   "outputs": [],
   "source": [
    "#The main idea is to go through a sentence and extract the subject and the object as and when they are encountered so that we can\n",
    "# have nodes and edges for the graph\n",
    "\n",
    "def get_entities(sent):\n",
    "  ## chunk 1\n",
    "  ent1 = \"\"\n",
    "  ent2 = \"\"\n",
    "\n",
    "  prv_tok_dep = \"\"    # dependency tag of previous token in the sentence\n",
    "  prv_tok_text = \"\"   # previous token in the sentence\n",
    "\n",
    "  prefix = \"\"\n",
    "  modifier = \"\"\n",
    "\n",
    "  #############################################################\n",
    "  \n",
    "  for tok in nlp(sent):\n",
    "    ## chunk 2\n",
    "    # if token is a punctuation mark then move on to the next token\n",
    "    if tok.dep_ != \"punct\":\n",
    "      # check: token is a compound word or not\n",
    "      if tok.dep_ == \"compound\":\n",
    "        prefix = tok.text\n",
    "        # if the previous word was also a 'compound' then add the current word to it\n",
    "        if prv_tok_dep == \"compound\":\n",
    "          prefix = prv_tok_text + \" \"+ tok.text\n",
    "      \n",
    "      # check: token is a modifier or not\n",
    "      if tok.dep_.endswith(\"mod\") == True:\n",
    "        modifier = tok.text\n",
    "        # if the previous word was also a 'compound' then add the current word to it\n",
    "        if prv_tok_dep == \"compound\":\n",
    "          modifier = prv_tok_text + \" \"+ tok.text\n",
    "      \n",
    "      ## chunk 3\n",
    "      if tok.dep_.find(\"subj\") == True:\n",
    "        ent1 = modifier +\" \"+ prefix + \" \"+ tok.text\n",
    "        prefix = \"\"\n",
    "        modifier = \"\"\n",
    "        prv_tok_dep = \"\"\n",
    "        prv_tok_text = \"\"      \n",
    "\n",
    "      ## chunk 4\n",
    "      if tok.dep_.find(\"obj\") == True:\n",
    "        ent2 = modifier +\" \"+ prefix +\" \"+ tok.text\n",
    "        \n",
    "      ## chunk 5  \n",
    "      # update variables\n",
    "      prv_tok_dep = tok.dep_\n",
    "      prv_tok_text = tok.text\n",
    "  #############################################################\n",
    "\n",
    "  return [ent1.strip(), ent2.strip()]\n"
   ]
  },
  {
   "cell_type": "code",
   "execution_count": null,
   "metadata": {},
   "outputs": [],
   "source": []
  },
  {
   "cell_type": "code",
   "execution_count": 21,
   "metadata": {},
   "outputs": [
    {
     "name": "stdout",
     "output_type": "stream",
     "text": [
      "['A strike by farmers in Maharashtra continues to affect normal life, despite the State government’s announcement of an end to the strike last week.', 'The farmers, whose demands include full waiver of farm loans, hikes in the minimum support price for agricultural produce and writing off of pending electricity bills, have been on an indefinite strike since June 1.', 'As the strike nears the end of its first week, prices of essential goods such as milk, fruits and vegetables have risen steeply, causing distress to consumers.', 'Some farmer groups agreed to call off their strike after Chief Minister Devendra Fadnavis promised that his government would waive farm loans of small and marginal farmers worth about ?30,000 crore, increase power subsidies, hike the price for milk procurement, and also set up a State commission to look into the matter of raising the MSP for crops.', 'He also promised that buying agricultural produce below their MSP would soon be made a criminal offence.', 'Other farmer groups, meanwhile, have stuck to their demand for a complete farm loan waiver and continued with their protest.', 'It is notable that the protests have come soon after the Uttar Pradesh government waived farm loans earlier this year, setting off similar demands in other States.', 'Yet, while Maharashtra’s farmers have caught the attention of the government, the focus on quick fixes has pushed aside the real structural issues behind the crisis.']\n"
     ]
    }
   ],
   "source": [
    "from nltk import sent_tokenize\n",
    "\n",
    "sentence=sent_tokenize(story)\n",
    "print (sentence)"
   ]
  },
  {
   "cell_type": "code",
   "execution_count": 22,
   "metadata": {},
   "outputs": [
    {
     "name": "stderr",
     "output_type": "stream",
     "text": [
      "100%|████████████████████████████████████████████████████████████████████████████████████| 8/8 [00:00<00:00, 59.70it/s]\n"
     ]
    }
   ],
   "source": [
    "entity_pairs = []\n",
    "\n",
    "for i in tqdm(sentence):\n",
    "    entity_pairs.append(get_entities(i))"
   ]
  },
  {
   "cell_type": "code",
   "execution_count": 23,
   "metadata": {},
   "outputs": [
    {
     "data": {
      "text/plain": [
       "[]"
      ]
     },
     "execution_count": 23,
     "metadata": {},
     "output_type": "execute_result"
    }
   ],
   "source": [
    "entity_pairs[10:20]"
   ]
  },
  {
   "cell_type": "code",
   "execution_count": 52,
   "metadata": {},
   "outputs": [],
   "source": [
    "#Our hypothesis is that the predicate is actually the main verb in a sentence.\n",
    "#The function below is capable of capturing such predicates from the sentences.\n",
    "#The pattern defined in the function tries to find the ROOT word or the main verb in the sentence. \n",
    "#Once the ROOT is identified, then the pattern checks whether it is followed by a preposition (‘prep’) \n",
    "#or an agent word. If yes, then it is added to the ROOT word.\n",
    "\n",
    "\n",
    "# some patterns and their meaning\n",
    "\n",
    "#GDP --> nsubj --> NOUN\n",
    "#in --> prep --> ADP\n",
    "#developing --> amod --> VERB\n",
    "#countries --> pobj --> NOUN\n",
    "#such --> amod --> ADJ\n",
    "#as --> prep --> ADP\n",
    "#Vietnam --> pobj --> PROPN\n",
    "#will --> aux --> VERB\n",
    "#continue --> ROOT --> VERB\n",
    "#growing --> xcomp --> VERB\n",
    "#at --> prep --> ADP\n",
    "#a --> det --> DET\n",
    "#high --> amod --> ADJ\n",
    "#rate --> pobj --> NOUN\n",
    "#. --> punct --> PUNCT\n",
    "\n",
    "def get_relation(sent):\n",
    "\n",
    "  doc = nlp(sent)\n",
    "\n",
    "  # Matcher class object \n",
    "  matcher = Matcher(nlp.vocab)\n",
    "\n",
    "  #define the pattern \n",
    "  pattern = [\n",
    "            #{'DEP':'ROOT'}, \n",
    "            #{'DEP':'prep','OP':\"?\"},\n",
    "            #{'DEP':'agent','OP':\"?\"},  \n",
    "            #{'POS':'ADJ','OP':\"?\"},\n",
    "            #{\"POS\": \"ADV\", \"OP\": \"*\"},\n",
    "            #{'DEP':'amod', 'OP':\"?\"},\n",
    "            {'DEP':'pobj','OP':'+'},\n",
    "            {'DEP':'nsubj','OP':'?'},\n",
    "            {'POS':'nsubj','OP':'?'}\n",
    "      \n",
    "            ] \n",
    "\n",
    "  matcher.add(\"matching_1\", None, pattern) \n",
    "\n",
    "  matches = matcher(doc)\n",
    "  k = len(matches) - 1\n",
    "\n",
    "  span = doc[matches[k][1]:matches[k][2]] \n",
    "\n",
    "  return(span.text)"
   ]
  },
  {
   "cell_type": "code",
   "execution_count": 53,
   "metadata": {},
   "outputs": [
    {
     "name": "stderr",
     "output_type": "stream",
     "text": [
      "\n",
      "\n",
      "\n",
      "\n",
      "\n",
      "  0%|                                                                                            | 0/8 [00:00<?, ?it/s]\n",
      "\n",
      "\n",
      "\n",
      "\n",
      " 75%|███████████████████████████████████████████████████████████████                     | 6/8 [00:00<00:00, 57.14it/s]\n",
      "\n",
      "\n",
      "\n",
      "\n",
      "100%|████████████████████████████████████████████████████████████████████████████████████| 8/8 [00:00<00:00, 48.78it/s]"
     ]
    }
   ],
   "source": [
    "relations = [get_relation(i) for i in tqdm(sentence)]"
   ]
  },
  {
   "cell_type": "code",
   "execution_count": 54,
   "metadata": {},
   "outputs": [
    {
     "name": "stdout",
     "output_type": "stream",
     "text": [
      "['strike', 'June', 'consumers', 'crops', 'MSP', 'protest', 'States', 'crisis']\n"
     ]
    }
   ],
   "source": [
    "print(relations)"
   ]
  },
  {
   "cell_type": "code",
   "execution_count": 55,
   "metadata": {},
   "outputs": [
    {
     "data": {
      "text/plain": [
       "consumers    1\n",
       "crops        1\n",
       "June         1\n",
       "protest      1\n",
       "strike       1\n",
       "MSP          1\n",
       "States       1\n",
       "crisis       1\n",
       "dtype: int64"
      ]
     },
     "execution_count": 55,
     "metadata": {},
     "output_type": "execute_result"
    }
   ],
   "source": [
    "#most frequent relations or predicates that we have just extracted:\n",
    "pd.Series(relations).value_counts()[:10]"
   ]
  },
  {
   "cell_type": "code",
   "execution_count": 56,
   "metadata": {},
   "outputs": [
    {
     "name": "stdout",
     "output_type": "stream",
     "text": [
      "consumers    0.125\n",
      "crops        0.125\n",
      "June         0.125\n",
      "protest      0.125\n",
      "strike       0.125\n",
      "MSP          0.125\n",
      "States       0.125\n",
      "crisis       0.125\n",
      "dtype: float64\n"
     ]
    }
   ],
   "source": [
    "total= len(relations)\n",
    "total\n",
    "### joint probability table\n",
    "prob_table = pd.Series(relations).value_counts()[:10]/ total\n",
    "print(prob_table)"
   ]
  },
  {
   "cell_type": "code",
   "execution_count": null,
   "metadata": {},
   "outputs": [],
   "source": []
  },
  {
   "cell_type": "code",
   "execution_count": 57,
   "metadata": {},
   "outputs": [],
   "source": [
    "#we create a dataframe of entities and predicates:\n",
    "\n",
    "# extract subject\n",
    "source = [i[0] for i in entity_pairs]\n",
    "\n",
    "# extract object\n",
    "target = [i[1] for i in entity_pairs]\n",
    "\n",
    "kg_df = pd.DataFrame({'source':source, 'target':target, 'edge':relations})"
   ]
  },
  {
   "cell_type": "code",
   "execution_count": 58,
   "metadata": {},
   "outputs": [
    {
     "name": "stdout",
     "output_type": "stream",
     "text": [
      "                          source                       target       edge\n",
      "0                         strike  normal government ’s strike     strike\n",
      "1                        demands  indefinite electricity June       June\n",
      "2                  first  prices           steeply  consumers  consumers\n",
      "3              30,000 farm crore             also State crops      crops\n",
      "4                   also  buying            agricultural  MSP        MSP\n",
      "5            Other farmer groups   complete farm loan protest    protest\n",
      "6  soon Uttar Pradesh government            other farm States     States\n",
      "7                          focus           structural  crisis     crisis\n"
     ]
    }
   ],
   "source": [
    "#print(source[1:10])\n",
    "#print(target[1:10])\n",
    "\n",
    "print(kg_df)"
   ]
  },
  {
   "cell_type": "code",
   "execution_count": 59,
   "metadata": {},
   "outputs": [],
   "source": [
    "# create a directed-graph from a dataframe\n",
    "G=nx.from_pandas_edgelist(kg_df, \"source\", \"target\", \n",
    "                          edge_attr=True, create_using=nx.MultiDiGraph())"
   ]
  },
  {
   "cell_type": "code",
   "execution_count": 60,
   "metadata": {
    "scrolled": true
   },
   "outputs": [
    {
     "data": {
      "image/png": "[encoded data removed]",
      "text/plain": [
       "<Figure size 864x864 with 1 Axes>"
      ]
     },
     "metadata": {},
     "output_type": "display_data"
    }
   ],
   "source": [
    "plt.figure(figsize=(12,12))\n",
    "\n",
    "pos = nx.spring_layout(G)\n",
    "nx.draw(G, with_labels=True, node_color='skyblue', edge_cmap=plt.cm.Blues, pos = pos)\n",
    "plt.show()"
   ]
  },
  {
   "cell_type": "code",
   "execution_count": 61,
   "metadata": {
    "scrolled": true
   },
   "outputs": [
    {
     "data": {
      "image/png": "[encoded data removed]",
      "text/plain": [
       "<Figure size 864x864 with 1 Axes>"
      ]
     },
     "metadata": {},
     "output_type": "display_data"
    }
   ],
   "source": [
    "G=nx.from_pandas_edgelist(kg_df[kg_df['edge']==\"crops\"], \"source\", \"target\", \n",
    "                          edge_attr=True, create_using=nx.MultiDiGraph())\n",
    "\n",
    "plt.figure(figsize=(12,12))\n",
    "pos = nx.spring_layout(G, k=0.5) # k regulates the distance between nodes\n",
    "nx.draw(G, with_labels=True, node_color='skyblue', node_size=2500, edge_cmap=plt.cm.Blues, pos = pos)\n",
    "plt.show()"
   ]
  },
  {
   "cell_type": "code",
   "execution_count": null,
   "metadata": {},
   "outputs": [],
   "source": []
  }
 ],
 "metadata": {
  "kernelspec": {
   "display_name": "Python 3",
   "language": "python",
   "name": "python3"
  },
  "language_info": {
   "codemirror_mode": {
    "name": "ipython",
    "version": 3
   },
   "file_extension": ".py",
   "mimetype": "text/x-python",
   "name": "python",
   "nbconvert_exporter": "python",
   "pygments_lexer": "ipython3",
   "version": "3.7.3"
  }
 },
 "nbformat": 4,
 "nbformat_minor": 2
}
